{
  "nbformat": 4,
  "nbformat_minor": 0,
  "metadata": {
    "colab": {
      "provenance": [],
      "toc_visible": true
    },
    "kernelspec": {
      "display_name": "Python 3",
      "name": "python3"
    }
  },
  "cells": [
    {
      "cell_type": "markdown",
      "metadata": {
        "id": "5D48bskJS25M"
      },
      "source": [
        "\n",
        "# CSCE633 Fall 2022 (Total 100 pts)\n",
        "\n",
        "**Machine Learning**\n",
        "\n",
        "**Homework 4**\n",
        "\n",
        "Instructor: Yoonsuck Choe\n",
        "\n",
        "Nov 4, 2022\n",
        "\n",
        "\n",
        "---"
      ]
    },
    {
      "cell_type": "markdown",
      "metadata": {
        "id": "PTadtehSTEem"
      },
      "source": [
        "**Student name: ** Chauhan, Ashutosh\n",
        "\n",
        "\n",
        "---"
      ]
    },
    {
      "cell_type": "markdown",
      "metadata": {
        "id": "seH0_JOMTS2c"
      },
      "source": [
        "# Common instructions (Read carefully)"
      ]
    },
    {
      "cell_type": "markdown",
      "metadata": {
        "id": "VRafXus3T2bg"
      },
      "source": [
        "**Submission:**\n",
        "\n",
        "1. After you complete each section, \"Save and pin\" the revision. (**File -> Save and pin revision**). \n",
        "> There will be a 20-point penalty for not including revision history in the submission as instructed below.\n",
        "2. When you're ready to submit, \n",
        "> 1. download the ipynb file (**File -> Download .ipynb**).\n",
        "> 2. take screenshot of revision history, by comparing each successive pinned revisions (there will be several of these: final vs. latest pin, latest pin vs. previous pin, etc.). (**File -> Revision history**, then click on the radio buttons for pinned revisions to compare. Scroll down to the part that shows the major revised part, and take a screenshot. No need to show the entire revision history.)\n",
        "> 3. submit a zip file **lastname-firstname.zip** containing the ipynb file and all revision screenshots.\n",
        "\n",
        "**Using the markup language in the \"text\" boxes:**\n",
        "\n",
        "Note: See https://colab.research.google.com/notebooks/markdown_guide.ipynb#scrollTo=70pYkR9LiOV0 for how to use the markdown when writing your answer in the text boxes.\n",
        "\n",
        "**NEW: Including images/screenshots**\n",
        "\n",
        "When including screenshots directly into the text cell, the markup source can get too long. To avoid this, you can upload your images to good drive, make them publicly viewable, get the share link, get the id string  from the link (for example, 1IDUkDGqQ1xSKOT3Wg8SKgAlKsDIdUQUy), and insert a tag like below:  \n",
        "```\n",
        "<img src=\"https://drive.google.com/uc?export=view&id=1IDUkDGqQ1xSKOT3Wg8SKgAlKsDIdUQUy\"> \n",
        "```"
      ]
    },
    {
      "cell_type": "markdown",
      "metadata": {
        "id": "M2s4WcOkUAWc"
      },
      "source": [
        "# Section I: Dimensionality Reduction"
      ]
    },
    {
      "cell_type": "markdown",
      "metadata": {
        "id": "yEQeQmGMpAc6"
      },
      "source": [
        "**Problem 1 (Written: 10pts):** \n",
        "\n",
        "Consider the data sets below: Data set 1 = Spiral data, Data set 2 = Point cloud data, and Data set 3 = simple data. You can plot the data first. \n",
        "- Plot the first column in the data against the second column\n",
        "``` D1[:,0] , D1[:,1] ```\n",
        "- Make sure you use aspect ratio of 1 when plotting, so that the x- and y-axis have the same scale.\n",
        "```\n",
        "fig=plt.figure()\n",
        "ax=fig.add_subplot(1,1,1)\n",
        "ax.set_aspect(1)\n",
        "plt.plot(....)\n",
        "```\n",
        "- Use \".\" for plotting style:  \n",
        "```plt.plot(...,\".\") ```\n",
        "\n",
        "(1) Which of the three data sets D1, D2, and D3 would be the most appropriate for PCA analysis, in terms of dimensionality reduction (2D to 1D)? Explain why.\n",
        "\n",
        "(2) Which of the three data sets D1, D2, and D3 would be the least appropriate for  PCA analysis, in terms of dimensionality reduction (2D to 1D)? Explain why.\n",
        "\n",
        "**Hint:** \n",
        "- Although the data are not labled into different classes, you may be able to \"see\" two possible groups of points in each data set. When you use  PCA to project all the data points to the PCA space (using the 1st and 2nd principal component vectors), would you be able to distinguish the two groups, just based on the 1st principal component axis? \n",
        "- Also, you can think about the variance in the original data (along the two axes) and the variance in the resulting projection (along the two principal component axes). \n",
        "\n"
      ]
    },
    {
      "cell_type": "markdown",
      "metadata": {
        "id": "njzmqsUMKRzE"
      },
      "source": [
        "**Answer:**\n",
        "\n",
        "Fill out the code cell below for the plot, and enter your answer here:\n",
        "\n",
        "(1) Among D1, D2 and D3, D3 would be the best choice for dimensionality reduction using PCA. When we project data points to PCA space (using 1st and 2nd principle component) the variance along 1st principle compnent will be very high and along 2nd principle axis will be very low. This will help us to distinguish data just based on the 1st principal component axis. In D1 and D2 variance along both compnents will be high.\n",
        "\n",
        "(2) Among D1, D2 and D3, D1 would be the least suitable choice for dimensionality reduction using PCA. When we project data points to PCA space (using 1st and 2nd principle component) the variance along both principle axis will be similar as data points are evenly distributed in D1. Therefore D1 is not suitable for dimensionality reduction using PCA."
      ]
    },
    {
      "cell_type": "code",
      "metadata": {
        "id": "KWR8LeoSh2zm",
        "colab": {
          "base_uri": "https://localhost:8080/",
          "height": 815
        },
        "outputId": "c3a27c7e-b4c9-4530-b862-52504c24be29"
      },
      "source": [
        "import numpy as np\n",
        "import matplotlib.pyplot as plt\n",
        "\n",
        "\n",
        "#--------------------\n",
        "def spiral_1(t):\n",
        "#--------------------\n",
        "  '''\n",
        "  parametric curve of a spiral : clockwise\n",
        "  '''\n",
        "  rand_factor = 1.0\n",
        "\n",
        "  dat   = np.array([(t+1)*np.sin(t+5), (t+1)*np.cos(t+5)])\n",
        "  noise = np.random.rand(2,len(dat[0,:]))*rand_factor\n",
        "  return (dat+noise-0.5)/7.5\n",
        "\n",
        "\n",
        "\"\"\"\n",
        "Data set 1 : D1 = spiral like data\n",
        "\n",
        "- This is a variation on the parametric plot for a circle [cos(t), sin(t)], with a gradually increasing radius. \n",
        "\"\"\"\n",
        "\n",
        "# data set 1 [x, y]\n",
        "\n",
        "t = np.arange(0, 6*np.pi, 0.1)\n",
        "D1 =  np.transpose(spiral_1(t))\n",
        "print('D1 shape is',D1.shape)\n",
        "# Plot it\n",
        "# -- add your plotting code here\n",
        "fig = plt.figure() \n",
        "ax = fig.add_subplot(1,1,1)\n",
        "ax.plot(D1[:,0],D1[:,1],'.')  \n",
        "ax.set_aspect(1)\n",
        "\n",
        "\"\"\"\n",
        "Data set 2 : D2 = point cloud data (normal distribution)\n",
        "\"\"\"\n",
        "\n",
        "x = np.append(np.random.normal(0,1,400),   np.random.normal(5.3,2,400))\n",
        "y = np.append(np.random.normal(0,1,400),   np.random.normal(5.3,2,400))\n",
        "\n",
        "D2 = np.vstack((x,y)).T\n",
        "\n",
        "# Plot it \n",
        "# -- add your plotting code here\n",
        "print('D2 shape is',D2.shape)\n",
        "fig = plt.figure() \n",
        "ax = fig.add_subplot(1,1,1)\n",
        "ax.plot(D2[:,0],D2[:,1],'.')  \n",
        "ax.set_aspect(1)\n",
        "\n",
        "\"\"\"\n",
        "Data set 3: D3 = simple data\n",
        "\"\"\"\n",
        "\n",
        "D3 = np.array([[-1, -1], [-2, -1], [-3, -2], [1, 1], [2, 1], [3, 2]])\n",
        "print('D3 shape is',D3.shape)\n",
        "fig = plt.figure() \n",
        "ax = fig.add_subplot(1,1,1)\n",
        "ax.plot(D3[:,0],D3[:,1],'.')  \n",
        "ax.set_aspect(1)\n",
        "\n",
        "# Plot it\n",
        "# -- add your plotting code here : use aspect ratio 1 (see below)\n"
      ],
      "execution_count": null,
      "outputs": [
        {
          "output_type": "stream",
          "name": "stdout",
          "text": [
            "D1 shape is (189, 2)\n",
            "D2 shape is (800, 2)\n",
            "D3 shape is (6, 2)\n"
          ]
        },
        {
          "output_type": "display_data",
          "data": {
            "text/plain": [
              "<Figure size 432x288 with 1 Axes>"
            ],
            "image/png": "[encoded data removed]"
          },
          "metadata": {
            "needs_background": "light"
          }
        },
        {
          "output_type": "display_data",
          "data": {
            "text/plain": [
              "<Figure size 432x288 with 1 Axes>"
            ],
            "image/png": "[encoded data removed]"
          },
          "metadata": {
            "needs_background": "light"
          }
        },
        {
          "output_type": "display_data",
          "data": {
            "text/plain": [
              "<Figure size 432x288 with 1 Axes>"
            ],
            "image/png": "[encoded data removed]"
          },
          "metadata": {
            "needs_background": "light"
          }
        }
      ]
    },
    {
      "cell_type": "code",
      "source": [
        "# Example plotting code\n",
        "\n",
        "# data \n",
        "x = np.random.normal(0,1,400)\n",
        "y = np.random.normal(0,1,400)\n",
        "\n",
        "# plot\n",
        "fig = plt.figure() \n",
        "ax = fig.add_subplot(111)\n",
        "ax.plot(x,y,'.')  \n",
        "ax.set_aspect('equal') # set aspect ratio to 1.0"
      ],
      "metadata": {
        "colab": {
          "base_uri": "https://localhost:8080/",
          "height": 265
        },
        "id": "XvyMvLUBV1lA",
        "outputId": "38170a06-653d-4534-d3d8-16b2e042a72b"
      },
      "execution_count": null,
      "outputs": [
        {
          "output_type": "display_data",
          "data": {
            "text/plain": [
              "<Figure size 432x288 with 1 Axes>"
            ],
            "image/png": "[encoded data removed]"
          },
          "metadata": {
            "needs_background": "light"
          }
        }
      ]
    },
    {
      "cell_type": "markdown",
      "metadata": {
        "id": "awK0qdPXnZ45"
      },
      "source": [
        "**Problem 2 (Program: 15pt)**\n",
        "\n",
        "Use scikit learn's PCA package to analyze the data set from problem 1. Use the template below.\n",
        "\n",
        "```\n",
        "from sklearn.decomposition import PCA\n",
        "\n",
        "X = .... # data (you can reuse D1, D2, D3 from above (Problem 1)\n",
        "\n",
        "# plot X : X[:,0] against X[:,1]\n",
        "\n",
        "pca = PCA(n_components=2)\n",
        "pca.fit(X)\n",
        "print(pca.singular_values_)\n",
        "\n",
        "Z = pca.fit_transform(X)\n",
        "\n",
        "\n",
        "# plot Z : Z[:,0] against Z[:,1]\n",
        "\n",
        "```\n",
        "\n",
        "For each of the three data sets D1, D2, D3: \n",
        "\n",
        "(1) [1pt] Plot the original data set (X). Fix aspect ratio to 1. \n",
        "\n",
        "(2) [1pt] Plot the projected data set (Z). Fix aspect ratio to 1. \n",
        "\n",
        "(3) [2pt] Compare the variance along the first and second principal component vectors (```pca.singular_values_```) for each data set.\n",
        "\n",
        "- D1: \n",
        "- D2:\n",
        "- D3: \n",
        "\n",
        "(4) [6pt] Comment on how these results relate to your answers in Problem 1. \n",
        "\n",
        "\n",
        "\n"
      ]
    },
    {
      "cell_type": "markdown",
      "metadata": {
        "id": "cLLWW8Z_qnjJ"
      },
      "source": [
        "**Answer:**\n",
        "\n",
        "Fill out the code in the code cell below, and enter your answer here: \n",
        "\n",
        "(1) Just refer to the code below. \n",
        "\n",
        "(2) Just refer to the code below.\n",
        "\n",
        "(3) \n",
        "- D1: variance of first principle compo is 15.73157619 \n",
        "- D1: variance of second principle compo is 14.57418233\n",
        "\n",
        "Both principal axis components in D1 have variance almost similar.\n",
        "\n",
        "- D2: variance of first principle compo is 114.24833385\n",
        "- D2: variance of second principle compo is 44.05978959\n",
        "\n",
        "Variance along first principal axis component is very high compared to second in D2 dataset.\n",
        "\n",
        "- D3: variance of first principle compo 6.30061232 \n",
        "- D3: variance of second principle compo 0.54980396\n",
        "\n",
        "Variance along second principal component is very low (negligible) compared to first component in D3 dataset. \n",
        "\n",
        "(4) \n",
        "- Dataset D1 - we can observe that the variance along both 1st and 2nd principal components is very high and similar. This is because the dataset is evenly distributed. This will therefore not give any advantage over current axis if we will do dimentionality reduction using PCA. This is clear form the plots also, both initial and PCA plots looks similar.\n",
        "\n",
        "- Dataset D2 - We can observe that there is difference in variance values of 1st principle component and 2nd principle component. Variance of 1st principal component is high compared to second component but still the variance of second is comparable. This makes it better choice for PCA compared to D1 dataset.\n",
        "\n",
        "- Dataset D3 - The variance of 1st principal component is high compared to the variance of 2nd principle component. Variance of second principle component is negligible. This makes data D3 best choice for dimentionality reduction using PCA as it could project data better along one axis. It could easily be convert to 1D from 2D given data. This is clear from the plots also, we can see the plot after PCA place the data mainly along 1 axis only.\n"
      ]
    },
    {
      "cell_type": "code",
      "metadata": {
        "colab": {
          "base_uri": "https://localhost:8080/",
          "height": 679
        },
        "id": "LUT3C6MCtfN8",
        "outputId": "cb6c3f22-72c1-4fed-9972-745f33baaffb"
      },
      "source": [
        "\"\"\"\n",
        "Write your PCA code here, and plot the original data and the projected data \n",
        "\"\"\"\n",
        "\n",
        "from sklearn.decomposition import PCA\n",
        "\n",
        "# X = np.array([[-1, -1], [1,1]]) # data (you can reuse D1, D2, D3 from above (Problem 1)\n",
        "\n",
        "# IMPLEMENT THIS: plot the input X here : X[:,0] against X[:,1]\n",
        "\n",
        "# 1. set up with input dimension = 2\n",
        "pca1 = PCA(n_components=2)\n",
        "pca2 = PCA(n_components=2)\n",
        "pca3 = PCA(n_components=2)\n",
        "\n",
        "# 2. analyze data X \n",
        "pca1.fit(D1)\n",
        "pca2.fit(D2)\n",
        "pca3.fit(D3)\n",
        "\n",
        "# 3. print eigenvalues \n",
        "# print('D1 eigenvalues',pca1.singular_values_)\n",
        "# print('D2 eigenvalues',pca2.singular_values_)\n",
        "# print('D3 eigenvalues',pca3.singular_values_)\n",
        "\n",
        "# 4. project data X to PCA space \n",
        "Z1 = pca1.fit_transform(D1)\n",
        "Z2 = pca2.fit_transform(D2)\n",
        "Z3 = pca3.fit_transform(D3)\n",
        "\n",
        "\n",
        "# IMPLEMENT THIS: plot the projected Z here : Z[:,0] against Z[:,1]\n",
        "\n",
        "print('D1 shape is',D1.shape)\n",
        "print('Z1 shape is',Z1.shape)\n",
        "print('D1 eigenvalues',pca1.singular_values_)\n",
        "fig = plt.figure().subplots(1, 2)\n",
        "fig[0].set_aspect(1)\n",
        "fig[1].set_aspect(1)\n",
        "fig[0].plot(D1[:,0],D1[:,1],'.')\n",
        "fig[1].plot(Z1[:,0],Z1[:,1],'.')  \n",
        "\n",
        "\n",
        "print('D2 shape is',D2.shape)\n",
        "print('Z2 shape is',Z2.shape)\n",
        "print('D2 eigenvalues',pca2.singular_values_)\n",
        "fig1 = plt.figure().subplots(1, 2)\n",
        "fig1[0].set_aspect(1)\n",
        "fig1[1].set_aspect(1)\n",
        "fig1[0].plot(D2[:,0],D2[:,1],'.')\n",
        "fig1[1].plot(Z2[:,0],Z2[:,1],'.')\n",
        "\n",
        "print('D3 shape is',D3.shape)\n",
        "print('Z3 shape is',Z3.shape)\n",
        "print('D3 eigenvalues',pca3.singular_values_)\n",
        "fig2 = plt.figure().subplots(1, 2)\n",
        "fig2[0].set_aspect(1)\n",
        "fig2[1].set_aspect(1)\n",
        "fig2[0].plot(D3[:,0],D3[:,1],'.')\n",
        "fig2[1].plot(Z3[:,0],Z3[:,1],'.')\n",
        "\n",
        "\n"
      ],
      "execution_count": null,
      "outputs": [
        {
          "output_type": "stream",
          "name": "stdout",
          "text": [
            "D1 shape is (189, 2)\n",
            "Z1 shape is (189, 2)\n",
            "D1 eigenvalues [15.73157619 14.57418233]\n",
            "D2 shape is (800, 2)\n",
            "Z2 shape is (800, 2)\n",
            "D2 eigenvalues [114.24833385  44.05978959]\n",
            "D3 shape is (6, 2)\n",
            "Z3 shape is (6, 2)\n",
            "D3 eigenvalues [6.30061232 0.54980396]\n"
          ]
        },
        {
          "output_type": "execute_result",
          "data": {
            "text/plain": [
              "[<matplotlib.lines.Line2D at 0x7f1983e6a640>]"
            ]
          },
          "metadata": {},
          "execution_count": 4
        },
        {
          "output_type": "display_data",
          "data": {
            "text/plain": [
              "<Figure size 432x288 with 2 Axes>"
            ],
            "image/png": "[encoded data removed]"
          },
          "metadata": {
            "needs_background": "light"
          }
        },
        {
          "output_type": "display_data",
          "data": {
            "text/plain": [
              "<Figure size 432x288 with 2 Axes>"
            ],
            "image/png": "[encoded data removed]"
          },
          "metadata": {
            "needs_background": "light"
          }
        },
        {
          "output_type": "display_data",
          "data": {
            "text/plain": [
              "<Figure size 432x288 with 2 Axes>"
            ],
            "image/png": "[encoded data removed]"
          },
          "metadata": {
            "needs_background": "light"
          }
        }
      ]
    },
    {
      "cell_type": "markdown",
      "metadata": {
        "id": "k4vN-kIzbuaB"
      },
      "source": [
        "**Problem 3 (Written: 15 pts):**\n",
        "\n",
        "(1) Explain why manifold learning can effectively handle data like the data set D1 in Problem 1 (the spiral data). [5pt]\n",
        "\n",
        "(2) For the spiral data (data set D1), what would be an appropriate $\\epsilon$ value for use in ISOMAP? Give a specific value as your answer (e.g. $\\epsilon = 2.5$), and explain your reasoning. **Hint:** By eyeballing the data, you can see that $\\epsilon$ cannot be less than a certain value (graph will be disconnected), while it cannot be greater than a certain value (points across different parts of the spiral will be connected), in order to recover the manifold structure. Pick a number between these two bounds.  [10pt] \n"
      ]
    },
    {
      "cell_type": "markdown",
      "metadata": {
        "id": "-cNhbGxUh4AZ"
      },
      "source": [
        "**Answer:**\n",
        "\n",
        "(1) Dataset D1 is a 1D manifold embedded in 2D embedding space. Manifold learning could easily recover a 1D structure from D1 and hence it is a viable method for effectively handling such datasets. Manifold learning uses geodesic distance instead of euclidean distance which will help recovering 1D structure from given manifold easily.\n",
        "\n",
        "(2) For the given spiral data most appropriate 𝜖  value for use in ISOMAP should be something not greater than 0.8 and not smaller than 0.3.   \n",
        "𝜖= 0.4 should be the most suitable value for computing. \n",
        "For 𝜖 value greater than 0.8 the ISOMAP algorithm will even start to take the values from next fold instead of direct neighbours which which not recover a true 1D structure. Whereas since their are few points in manifold that have distance between them which is around 0.3 so keeping 𝜖 < 0.3 will break the structure and not match neighbours at such scenarios. So 0.4 will be most suitable value in my opinion. "
      ]
    },
    {
      "cell_type": "markdown",
      "metadata": {
        "id": "7wfL4SFjCmx3"
      },
      "source": [
        "# Section II: Conditional Independence "
      ]
    },
    {
      "cell_type": "markdown",
      "metadata": {
        "id": "pY-hX8jtpknb"
      },
      "source": [
        "**Problem 4 (Written: 10pts)**\n",
        "\n",
        "Consider three binary variables $a, b, c \\in \\{0,1\\}$ having the\n",
        "joint probability distribution given in the table below. Show by direct\n",
        "evaluation that this distribution has the property that $a$ and $b$ are \n",
        "dependent, so that $P(a,b) \\neq P(a)p(b)$, but that they become independent\n",
        "when conditioned on $c$, so that $ P(a,b|c) = P(a|c)p(b|c)$ for both\n",
        "$c=0$ and $c=1$ [adapted from C. M. Bishop, *Pattern Recognition and Machine Learning*, Springer, 2006].\n",
        "\n",
        "> $a$ | $b$ | $c$ | P($a$,$b$,$c$)\n",
        "> --- | --- | --- | ---\n",
        "> 0 | 0 | 0 | 0.375 \n",
        "> 0 | 0 | 1 | <strike>0.005</strike> 0.05 (typo fixed!)\n",
        "> 0 | 1 | 0 | 0.041667 \n",
        "> 0 | 1 | 1 | 0.075\n",
        "> 1 | 0 | 0 | 0.075 \n",
        "> 1 | 0 | 1 | 0.15\n",
        "> 1 | 1 | 0 | 0.008333\n",
        "> 1 | 1 | 1 | 0.225\n"
      ]
    },
    {
      "cell_type": "markdown",
      "metadata": {
        "id": "mHSXXDrciHRj"
      },
      "source": [
        "**Answer:**\n",
        "\n",
        "- P(a=0) = 0.541667\n",
        "- P(a=1) = 0.458333\n",
        "- P(b=0) = 0.65\n",
        "- P(b=1) = 0.35\n",
        "\n",
        "- P(a=0, b=0) = 0.425\n",
        "- P(a=0, b=1) = 0.116667\n",
        "- P(a=1, b=0) = 0.225\n",
        "- P(a=1, b=1) = 0.233333\n",
        "\n",
        "Tabulate your results in the following format:\n",
        "\n",
        "> $a$ | $b$ | P($a$,$b$) | P($a$)P($b$)\n",
        "> --- | --- | --- | ---\n",
        "> 0 | 0 | p(a=0,b=0) = 0.425| 0.35208355\n",
        "> 0 | 1 | p(a=0,b=1) = 0.116667 | 0.18958345\n",
        "> 1 | 0 | p(a=1,b=0) = 0.225| 0.29791645\n",
        "> 1 | 1 | p(a=1,b=1) = 0.233333| 0.16041655\n",
        "\n",
        "As $P(a,b) \\neq P(a)p(b)$, a and b are dependent\n",
        "\n",
        "\n",
        "- P(c=0) = 0.5\n",
        "- P(c=1) = 0.5\n",
        "\n",
        "- p(a=0,b=0|c=0) = $$\\frac{p(a=0,b=0,c=0)}{P(c=0)} =  0.75$$\n",
        "\n",
        "- p(a=0,b=0|c=1) = $$\\frac{p(a=0,b=0,c=1)}{P(c=1)} =  0.1$$\n",
        "\n",
        "- p(a=0,b=1|c=0) = $$\\frac{p(a=0,b=1,c=0)}{P(c=0)} =  0.083334$$\n",
        "\n",
        "- p(a=0,b=1|c=1) = $$\\frac{p(a=0,b=1,c=1)}{P(c=1)} =  0.15$$\n",
        "\n",
        "- p(a=1,b=0|c=0) = $$\\frac{p(a=1,b=0,c=0)}{P(c=0)} =  0.15$$\n",
        "\n",
        "- p(a=1,b=0|c=1) = $$\\frac{p(a=1,b=0,c=1)}{P(c=1)} =  0.3$$\n",
        "\n",
        "- p(a=1,b=1|c=0) = $$\\frac{p(a=1,b=1,c=0)}{P(c=0)} =  0.016666$$\n",
        "\n",
        "- p(a=1,b=1|c=1) = $$\\frac{p(a=1,b=1,c=1)}{P(c=1)} =  0.45$$\n",
        "\n",
        "- P(a=0, c=0) = 0.416667\n",
        "- P(a=0, c=1) = 0.125\n",
        "- P(a=1, c=0) = 0.083333\n",
        "- P(a=1, c=1) = 0.375\n",
        "\n",
        "- P(b=0, c=0) = 0.45\n",
        "- P(b=0, c=1) = 0.225\n",
        "- P(b=1, c=0) = 0.05\n",
        "- P(b=1, c=1) = 0.3\n",
        "\n",
        "- P(a=0|c=0) = $$\\frac{P(a=0,c=0)}{P(c=0)} = 0.833334$$\n",
        "- P(b=0|c=0) = $$\\frac{P(b=0,c=0)}{P(c=0)} = 0.9$$\n",
        "- P(a=0|c=0)(b=0|c=0) = 0.75\n",
        "\n",
        "Calulating similarly other probabilities we get.\n",
        "\n",
        "\n",
        "> $a$ | $b$ | $c$ | P($a$,$b$$\\mid$$c$) | P($a|c$)P($b|c$)\n",
        "> --- | --- | --- | --- | ---\n",
        "> 0 | 0 | 0 | p(a=0,b=0\\|c=0) = 0.75 | 0.75\n",
        "> 0 | 0 | 1 | p(a=0,b=0\\|c=1) = 0.1 | 0.1\n",
        "> 0 | 1 | 0 | p(a=0,b=1\\|c=0) = 0.083334 | 0.083334\n",
        "> 0 | 1 | 1 | p(a=0,b=1\\|c=1) = 0.15 | 0.15\n",
        "> 1 | 0 | 0 | p(a=1,b=0\\|c=0) = 0.15 | 0.15\n",
        "> 1 | 0 | 1 | p(a=1,b=0\\|c=1) = 0.3 | 0.3\n",
        "> 1 | 1 | 0 | p(a=1,b=1\\|c=0) = 0.016666 | 0.016666\n",
        "> 1 | 1 | 1 | p(a=1,b=1\\|c=1) = 0.45 | 0.45\n",
        "\n",
        "Since values of $P(a,b|c) = P(a|c)P(b|c)$. We can say that a and b become independent when conditioned on 𝑐"
      ]
    },
    {
      "cell_type": "markdown",
      "metadata": {
        "id": "Vqt09dt6Gvz4"
      },
      "source": [
        "**Program 5 (Written: 10pts)**\n",
        "\n",
        "How is the above result related to the concept of conditional independence $P(a|b,c) = P(a|c)$, $a$ is independent from $b$ given $c$? (derive $P(a|b,c) = P(a|c)$ if $ P(a,b|c) = P(a|c)p(b|c)$: **DO NOT** simply plug in the probability values from above."
      ]
    },
    {
      "cell_type": "markdown",
      "metadata": {
        "id": "5HIBxBZnjQXG"
      },
      "source": [
        "**Answer**:\n",
        "\n",
        "Given $P(a,b|c) = P(a|c)P(b|c)$\n",
        "\n",
        "Show $P(a|b,c) = \\frac{P(a,b,c)}{P(b,c)} $ .....(1)\n",
        "\n",
        "we know, \n",
        "\n",
        "$P(b,c) = P(b|c)P(c)$\n",
        "\n",
        "keeping this in equation (1), we get\n",
        "\n",
        "$P(a|b,c) = \\frac{P(a,b,c)}{P(b|c)P(c)} $ .......(2)\n",
        "\n",
        "Also,\n",
        "\n",
        "$P(a,b|c) = \\frac{P(a,b,c)}{P(c)} $ .....(3)\n",
        "\n",
        "$P(a,b,c) = P(a,b|c)P(c) $ .....(4)\n",
        "\n",
        "Substituting eqn 4in eqn 2, we get,\n",
        "\n",
        "$P(a|b,c) = \\frac{P(a,b|c)P(c)}{P(c)P(b|c)} $ \n",
        "\n",
        "$P(a|b,c) = \\frac{P(a,b|c)}{P(b|c)} $ .....(5)\n",
        "\n",
        "it is given that,\n",
        "\n",
        "$P(a,b|c) = P(a|c)P(b|c)$ Keeping eqn 5 in this, we get,\n",
        "\n",
        "$P(a|b,c) = \\frac{P(a|c)P(b|c)}{P(b|c)} $ \n",
        "\n",
        "$P(a|b,c) = P(a|c) $\n",
        "\n",
        "Hence, proved\n",
        "\n"
      ]
    },
    {
      "cell_type": "markdown",
      "metadata": {
        "id": "klTShQ_9I7ia"
      },
      "source": [
        "# Section III: Naive Bayes Classifier\n",
        "\n",
        "\n"
      ]
    },
    {
      "cell_type": "markdown",
      "metadata": {
        "id": "-KYkXn-mHqod"
      },
      "source": [
        "\n",
        "Consider the data set below, for spam detection. \n",
        "\n",
        "We will use the Naive Bayes Classifier to learn from this data and predict new sentences. \n",
        "\n",
        "> Sentence | Spam\n",
        "> --- | ---  \n",
        "> congrats you are selected | N \n",
        "> congrats you won lottery | Y\n",
        "> travel for free | Y\n",
        "> good credit | N\n",
        "> selected for credit cards | Y\n",
        "> very good | N\n",
        "> free credit cards | Y\n",
        "> good night | N\n",
        "> lottery | Y \n",
        "> good for you | N \n",
        "\n",
        "In this context, each word can be treated as an attribute, and their values will be 0 or 1 depending on the absence or existence of the word in the sentence. \n",
        "\n",
        "For example, \"congrats\" will be attribute $a_0$, \"you\" will be attribute $a_1$, etc. Use the following mapping for the words to attributes:\n",
        "\n",
        "> word | attribute | dictionary index (see python code below)\n",
        "> --- | --- | ---\n",
        "> congrats | $a_0$ | 0\n",
        "> you | $a_1$ | 1\n",
        "> are | $a_2$ | 2\n",
        "> selected | $a_3$ | 3\n",
        "> won | $a_4$ | 4\n",
        "> lottery | $a_5$ | 5\n",
        "> travel | $a_6$ | 6\n",
        "> for | $a_7$ | 7\n",
        "> free | $a_8$ | 8\n",
        "> credit | $a_9$ | 9\n",
        "> cards | $a_{10}$ | 10\n",
        "> very | $a_{11}$ | 11\n",
        "> good | $a_{12}$ | 12\n",
        "> night | $a_{13}$ | 13\n",
        "\n",
        "```\n",
        "dictionary = np.array([\"congrats\",\"you\",\"are\",\"selected\",\"won\",\"lottery\",\"travel\",\"for\",\"free\",\"credit\",\"cards\",\"very\",\"good\",\"night\"])\n",
        "```\n",
        "\n",
        "So, the sentence \"you won free travel\" would be \n",
        "> $\\small (a_0=0, a_1=1, a_2=0, a_3=0, a_4=1, a_5=0, a_6=1, a_7=0, a_8=1, a_9=0, a_{10}=0, a_{11}=0, a_{12}=0, a_{13}=0)$\n",
        "\n",
        "or simply\n",
        "> $\\small (0,1,0,0,1,0,1,0,1,0,0,0,0,0)$\n",
        "\n",
        "So, the probability that \"you won free travel\" is a spam can be written as:\n",
        "> $\\small P(Spam=Yes| a_0=0, a_1=1, a_2=0, a_3=0, a_4=1, a_5=0, a_6=1, a_7=0, a_8=1, a_9=0, a_{10}=0, a_{11}=0, a_{12}=0, a_{13}=0)$\n",
        "\n",
        "or as\n",
        "\n",
        "> $\\small P(Yes|0,1,0,0,1,0,1,0,1,0,0,0,0,0)$.\n",
        "\n",
        "Note that word ordering does not matter, and multiple occurances of the same word is simply represented as 1. \n"
      ]
    },
    {
      "cell_type": "markdown",
      "metadata": {
        "id": "uPL93V3xWQmd"
      },
      "source": [
        "**Problem 6 (Program: 15pt)**\n",
        "\n",
        "Use the skeleton code in the code cell below to train Naive Bayes on the data set (sentence / spam table in the beginning of Section III). \n",
        "\n",
        "Enter the data in the format shown in the code cell below. ```X``` is the input, and ```y``` is the target values. The first entry in each from the sentence/spam table is already entered in the code cell, along with the skeleton code to train and test. \n",
        "\n",
        "To easily verify that you entered the data correctly, write a function to convert the data vector (each row in the numpy array) to a string, and use this to print out your data in a human readable form. Use the ``dictionary`` array provided in the code cell. \n",
        "\n",
        "```\n",
        "def vec2word(vec):\n",
        "   ...\n",
        "   words = ...\n",
        "   ...\n",
        "   return words\n",
        "```\n",
        "\n",
        "(1) Implement the above and train the Naive Bayes Classifier. Report the accuracy. [5pt]\n",
        "\n",
        "(2) Provide 3 test sentences that are classified as \"Spam\" (output = 1). [5pt]\n",
        "\n",
        "- These cannot be from the provided data set above.\n",
        "- Each sentence must be at least 3 words long.\n",
        "\n",
        "(3) Provide 3 test sentences that are classified as \"Not spam\" (output = 0). [5pt]\n",
        "\n",
        "- These cannot be from the provided data set above.\n",
        "- Each sentence must be at least 3 words long.\n",
        "\n",
        "(4) Do you think this kind of approach can scale to a full-blown spam filter for real-life applications? This is an open ended question. [5pt]\n",
        "\n",
        "   "
      ]
    },
    {
      "cell_type": "markdown",
      "metadata": {
        "id": "80VGZpe3XzEQ"
      },
      "source": [
        "**Answer:**\n",
        "\n",
        "(1) Modify the code below and report the results here. \n",
        "Accuracy = 1.0\n",
        "\n",
        "(2) Spam test cases\n",
        "- congrats selected for free cards\n",
        "- congrats selected for travel\n",
        "- you won free night\n",
        "\n",
        "(3) Non-Spam test cases\n",
        "- congrats you for credit good \n",
        "- congrats you for good night\n",
        "- you are selected for credit \n",
        "\n",
        "(4) Naive bayes algorithm is very quick algorithm and can train on very less data but using it for real-life full-blown applications can give high errors. It assumes that all features are independent which is not usally the case in real life. This limits the applicability of this in real world applications. Also this algorithm assigns zero probability to categorical variables whose category in test data was not available in training data however some smoothing could be used to overcome this impact."
      ]
    },
    {
      "cell_type": "code",
      "metadata": {
        "colab": {
          "base_uri": "https://localhost:8080/"
        },
        "outputId": "0204cf0f-b68b-48a2-b4a9-21b5bee0a4f0",
        "id": "k0xiClK93xG3"
      },
      "source": [
        "\n",
        "\n",
        "import numpy as np\n",
        "from sklearn.naive_bayes import MultinomialNB\n",
        "\n",
        "#-------\n",
        "# dictionary, to look up words from the data vector -- case sensitive! \n",
        "#-------\n",
        "dictionary = np.array([\"congrats\",\"you\",\"are\",\"selected\",\"won\",\"lottery\",\"travel\",\"for\",\"free\",\"credit\",\"cards\",\"very\",\"good\",\"night\"])\n",
        "\n",
        "#-------\n",
        "# vec2word: convert data vector to words\n",
        "#-------\n",
        "def vec2word(vec):\n",
        "  \"\"\"\n",
        "  arguments: vec = np.array([0,1,...])\n",
        "  returns: string of sentence corresponsing to the vector (word may not be ordered properly)\n",
        "  \"\"\"\n",
        "  words = \"\"\n",
        "  for idx,i in enumerate(vec):\n",
        "    if i:\n",
        "      words += dictionary[idx] + \" \"\n",
        "  return words\n",
        "\n",
        "\n",
        "#--------------------------------\n",
        "# spam data : enter your data here \n",
        "#--------------------------------\n",
        "X = np.array([\n",
        "  [1,1,1,1,0,0,0,0,0,0,0,0,0,0], #congrats you are selected : No Spam\n",
        "  [1,1,0,0,1,1,0,0,0,0,0,0,0,0], #congrats you won lottery : Spam\n",
        "  [0,0,0,0,0,0,1,1,1,0,0,0,0,0], #travel for free : Spam\n",
        "  [0,0,0,0,0,0,0,0,0,1,0,0,1,0], #good credit : No Spam\n",
        "  [0,0,0,1,0,0,0,1,0,1,1,0,0,0], #selected for credit cards : Spam\n",
        "  [0,0,0,0,0,0,0,0,0,0,0,1,1,0], #very good : No Spam\n",
        "  [0,0,0,0,0,0,0,0,1,1,1,0,0,0], #free credit cards : Spam\n",
        "  [0,0,0,0,0,0,0,0,0,0,0,0,1,1], #good night : No Spam\n",
        "  [0,0,0,0,0,1,0,0,0,0,0,0,0,0], #lottery : Spam\n",
        "  [0,1,0,0,0,0,0,1,0,0,0,0,1,0], #good for you : No Spam\n",
        "])\n",
        "\n",
        "y = np.array([0, 1, 1, 0, 1, 0, 1, 0, 1, 0])\n",
        "\n",
        "clf = MultinomialNB()\n",
        "clf.fit(X, y)\n",
        "\n",
        "print(\"Score (accuracy: 1.0 = 100%)= \",end=\"\")\n",
        "print(clf.score(X,y))\n",
        "\n",
        "print(\"Spam test: you won lottery: answer=\",end=\"\")\n",
        "test = np.array([[0,1,0,0,1,1,0,0,0,0,0,0,0,0]]) # note: np.array([[ ... ]]), not np.array([ ... ]) \n",
        "# test your vec2word() function here, with the test data. \n",
        "print(vec2word(test[0]))\n",
        "print(clf.predict(test))\n",
        "print(clf.predict_proba(test))  # [1. 0.] correspond to NoSpam and Spam probability, respectively.\n",
        "\n",
        "print(\"\")\n",
        "print(\"Spam test: you are very free: answer=\",end=\"\")\n",
        "test = np.array([[0,1,1,0,0,0,0,0,1,0,0,1,0,0]]) # note: np.array([[ ... ]]), not np.array([ ... ]) \n",
        "# test your vec2word() function here, with the test data. \n",
        "print(vec2word(test[0]))\n",
        "print(clf.predict(test))\n",
        "print(clf.predict_proba(test))  # [1. 0.] correspond to NoSpam and Spam probability, respectively.\n",
        "\n",
        "print(\"\\n Test case for Spam sentances\")\n",
        " \n",
        "print (\"\\nTest Case 1\")\n",
        "test = np.array([[1,0,0,1,0,0,0,1,1,0,1,0,0,0]]) \n",
        "print(vec2word(test[0]))\n",
        "print(clf.predict(test))\n",
        "print(clf.predict_proba(test)) \n",
        "\n",
        "print (\"\\nTest Case 2\")\n",
        "test = np.array([[1,0,0,1,0,0,1,1,0,0,0,0,0,0]]) \n",
        "print(vec2word(test[0]))\n",
        "print(clf.predict(test))\n",
        "print(clf.predict_proba(test))\n",
        "\n",
        "print (\"\\nTest Case 3\")\n",
        "test = np.array([[0,1,0,0,1,0,0,0,1,0,0,0,0,1]]) \n",
        "print(vec2word(test[0]))\n",
        "print(clf.predict(test))\n",
        "print(clf.predict_proba(test))\n",
        "\n",
        "print(\"\\n Test case for Non-Spam sentances\")\n",
        " \n",
        "print (\"\\nTest Case 1\")\n",
        "test = np.array([[1,1,0,0,0,0,0,1,0,1,0,0,1,0]]) \n",
        "print(vec2word(test[0]))\n",
        "print(clf.predict(test))\n",
        "print(clf.predict_proba(test)) \n",
        "\n",
        "print (\"\\nTest Case 2\")\n",
        "test = np.array([[1,1,0,0,0,0,0,1,0,0,0,0,1,1]]) \n",
        "print(vec2word(test[0]))\n",
        "print(clf.predict(test))\n",
        "print(clf.predict_proba(test))\n",
        "\n",
        "print (\"\\nTest Case 3\")\n",
        "test = np.array([[0,1,1,1,0,0,0,1,0,1,0,0,0,0]]) \n",
        "print(vec2word(test[0]))\n",
        "print(clf.predict(test))\n",
        "print(clf.predict_proba(test))\n"
      ],
      "execution_count": null,
      "outputs": [
        {
          "output_type": "stream",
          "name": "stdout",
          "text": [
            "Score (accuracy: 1.0 = 100%)= 1.0\n",
            "Spam test: you won lottery: answer=you won lottery \n",
            "[1]\n",
            "[[0.23650857 0.76349143]]\n",
            "\n",
            "Spam test: you are very free: answer=you are free very \n",
            "[0]\n",
            "[[0.72690638 0.27309362]]\n",
            "\n",
            " Test case for Spam sentances\n",
            "\n",
            "Test Case 1\n",
            "congrats selected for free cards \n",
            "[1]\n",
            "[[0.09574744 0.90425256]]\n",
            "\n",
            "Test Case 2\n",
            "congrats selected travel for \n",
            "[1]\n",
            "[[0.30729917 0.69270083]]\n",
            "\n",
            "Test Case 3\n",
            "you won free night \n",
            "[1]\n",
            "[[0.39955699 0.60044301]]\n",
            "\n",
            " Test case for Non-Spam sentances\n",
            "\n",
            "Test Case 1\n",
            "congrats you for credit good \n",
            "[0]\n",
            "[[0.82653517 0.17346483]]\n",
            "\n",
            "Test Case 2\n",
            "congrats you for good night \n",
            "[0]\n",
            "[[0.93461733 0.06538267]]\n",
            "\n",
            "Test Case 3\n",
            "you are selected for credit \n",
            "[0]\n",
            "[[0.65587763 0.34412237]]\n"
          ]
        }
      ]
    },
    {
      "cell_type": "markdown",
      "metadata": {
        "id": "TFGRjOOnhK0S"
      },
      "source": [
        "# Section IV: Local Methods"
      ]
    },
    {
      "cell_type": "markdown",
      "metadata": {
        "id": "vEZu1pVl_y0H"
      },
      "source": [
        "**Problem 7 (Written: 15 pts)**\n",
        "\n",
        "The SOM, given an input vector $\\vec{x}$ and the best matching unit index $i(\\vec{x})$, the learning rule for the reference vector for unit $j$ is:\n",
        "$$ \\vec{w}_j \\leftarrow \\vec{w}_j + \\eta h(j,i(\\vec{x}))(\\vec{x} - \\vec{w}_j) $$\n",
        "\n",
        "- The learning rate is fixed $\\eta = 1$.\n",
        "\n",
        "- Let $h(j,i(\\vec{x})) = 1$, for the best matching unit $j=i(\\vec{x})$, $h(j,i(\\vec{x})) = \\frac{2}{3}$ for its immediate neighbor ($j = i(\\vec{x})\\pm1$) and $h(j,i(\\vec{x})) = \\frac{1}{3}$ for its second-order neighbor ($j = i(\\vec{x})\\pm2$). For all the rest, $h(j,i(\\vec{x})) =0$.\n",
        "\n",
        "(1) Consider a 1-D SOM with 7 units with the following weight vectors.\n",
        "Plot the vectors and connect them according to the order given below ($\\vec{w}_1$ connected to $\\vec{w}_2$, etc.).\n",
        ">  $\\vec{w}$ | $w_1$ | $w_2$\n",
        "> --- | --- | ---\n",
        "> $\\vec{w}_1$ | 2 | 0\n",
        "> $\\vec{w}_2$ | 6 | 6\n",
        "> $\\vec{w}_3$ | 1 | 4\n",
        "> $\\vec{w}_4$ | 3 | 6\n",
        "> $\\vec{w}_5$ | 1 | 1\n",
        "> $\\vec{w}_6$ | 6 | 2\n",
        "> $\\vec{w}_7$ | 5 | 4\n",
        "\n",
        "(2) Given an input vector $\\vec{x} = (2,6)$, plot how the weight vectors change after one iteration of training. Plot in the same graph as (1) above."
      ]
    },
    {
      "cell_type": "markdown",
      "metadata": {
        "id": "M5WrZj2wgV-Q"
      },
      "source": [
        "**Answer:**\n",
        "\n",
        "(1) Show the plot\n",
        "\n",
        "(2) Show the plot \n",
        "\n",
        "You may use a code cell to plot the above.\n"
      ]
    },
    {
      "cell_type": "code",
      "source": [
        "import numpy as np\n",
        "import math\n",
        "import matplotlib.pyplot as plt\n",
        "\n",
        "\n",
        "w = np.array([[2.0,0.0],[6.0,6.0],[1.0,4.0],[3.0,6.0],[1.0,1.0],[6.0,2.0],[5.0,4.0]])\n",
        "plt.plot(w[:,0],w[:,1])\n",
        "\n",
        "x=[2,6]\n",
        "learning_rate = 1\n",
        "\n",
        "euclidean_dists = {}\n",
        "for i in range(7):\n",
        "  euclidean_dist =  math.sqrt((x[0] - w[i][0])**2 + (x[1] - w[i][1]) ** 2)\n",
        "  euclidean_dists[i] = euclidean_dist\n",
        "\n",
        "best_index = sorted(euclidean_dists, key=lambda k: euclidean_dists[k])[0]\n",
        "print(best_index)\n",
        "\n",
        "h=[0]*7\n",
        "h[best_index] =1\n",
        "h[best_index+1] = 2/3\n",
        "h[best_index-1] = 2/3\n",
        "h[best_index+2] = 1/3\n",
        "h[best_index-2] = 1/3\n",
        "\n",
        "for i in range(7):\n",
        "  w[i]+=learning_rate*h[i]*(x-w[i])\n",
        " \n",
        "plt.plot(w[:,0],w[:,1])\n",
        "plt.plot([2], [6], marker='o', markersize=10, color=\"brown\")"
      ],
      "metadata": {
        "colab": {
          "base_uri": "https://localhost:8080/",
          "height": 301
        },
        "id": "RVF79PhpLNHg",
        "outputId": "6ffbd929-f5cb-467b-ed27-3b75bb299314"
      },
      "execution_count": null,
      "outputs": [
        {
          "output_type": "stream",
          "name": "stdout",
          "text": [
            "3\n"
          ]
        },
        {
          "output_type": "execute_result",
          "data": {
            "text/plain": [
              "[<matplotlib.lines.Line2D at 0x7f1982ad1520>]"
            ]
          },
          "metadata": {},
          "execution_count": 45
        },
        {
          "output_type": "display_data",
          "data": {
            "text/plain": [
              "<Figure size 432x288 with 1 Axes>"
            ],
            "image/png": "[encoded data removed]"
          },
          "metadata": {
            "needs_background": "light"
          }
        }
      ]
    },
    {
      "cell_type": "markdown",
      "metadata": {
        "id": "yw8DSNU7k7Uj"
      },
      "source": [
        "**Problem 8 (Written: 10pts)**\n",
        "\n",
        "(1) In radial basis function networks, among (a) the RBF units, (b) output units, and (c) RBF-to-output connections, which part is associated the most with  \"local\" in \"local learning\"? Explain why. [5pt]\n",
        "\n",
        "(2) In radial basis function networks, among (a) parameters of the RBF units (center and variance) and (b) RBF-to-output connection weights, which one can be learned in one-shot, without many iterations? Explain why. [5pt] "
      ]
    },
    {
      "cell_type": "markdown",
      "source": [
        "Answer 8\n",
        "\n",
        "(1) Option a: In radial basis function, RBF units are mostly associated with 'local' in 'local learning'. This is because each pth RBF unit is calculated using unsupervised learning and is similar to the mean units of local methods like k-means and SOM. Also, every input in input space can be connected to RBF activation functions due to which the input can be linked to the greatest local RBF activation function. Each RBF unit represents a small area of a network, each of its centers and spreads can be triggered by various inputs, each unit has a unique behavior and therefore each unit learns locally. \n",
        "\n",
        "(2) Option b : RBF-to-output connection weights can be learned in one-shot using pseudo inverse. This is because output units are usually linear units. This is shown below:\n",
        "\n",
        "1.   Case 1 :  $n=H$\n",
        "\n",
        "    $Pw = y$\n",
        "\n",
        "    multiplying $P^{-1}$ both sides, we get\n",
        "  \n",
        "    $w = P^{-1}y$\n",
        "\n",
        "2.  Case 2 :  $n>H$\n",
        "\n",
        "    $(P^{T}P)^{-1}P^{T}Pw = (P^{T}P)^{-1}P^{T}y$\n",
        "\n",
        "    $P^{-1}(P^{T})^{-1}P^{T}Pw = (P^{T}P)^{-1}P^{T}y$\n",
        "\n",
        "    since $(P^{T})^{-1}P^{T} = I$ \n",
        "\n",
        "    $P^{-1}Pw = (P^{T}P)^{-1}P^{T}y$\n",
        "\n",
        "    since $P^{-1}P = I$ \n",
        "\n",
        "    $w = (P^{T}P)^{-1}P^{T}y$\n",
        "\n",
        "    This shows that w can be directly calculated in one shot using above formula"
      ],
      "metadata": {
        "id": "TTn7zgtG0Vxk"
      }
    }
  ]
}